{
 "cells": [
  {
   "cell_type": "code",
   "execution_count": null,
   "id": "e1507203",
   "metadata": {},
   "outputs": [],
   "source": [
    "# Read the candidate csv file into a dataframe\n",
    "\n",
    "import pandas as pd\n",
    "\n",
    "CSV_PATH = \"../results/NUMT_candidates.csv\"\n",
    "\n",
    "df = pd.read_csv(CSV_PATH)"
   ]
  },
  {
   "cell_type": "code",
   "execution_count": null,
   "id": "d9a0e9b9",
   "metadata": {},
   "outputs": [
    {
     "name": "stdout",
     "output_type": "stream",
     "text": [
      "143\n"
     ]
    }
   ],
   "source": [
    "# Cluster reads that fall into the same bin\n",
    "\n",
    "BIN_SIZE = 500\n",
    "\n",
    "df[\"bin_start\"] = (df[\"ref_start\"] // BIN_SIZE) * BIN_SIZE\n",
    "\n",
    "grouped = df.groupby([\"ref_name\", \"bin_start\", \"is_reverse\"])\n",
    "\n",
    "clustered = grouped.agg(\n",
    "    num_reads=(\"query_name\", \"count\"),\n",
    "    avg_ref_start=(\"ref_start\", \"mean\"),\n",
    "    avg_mate_start=(\"mate_start\", \"mean\")\n",
    ").reset_index()"
   ]
  }
 ],
 "metadata": {
  "kernelspec": {
   "display_name": "bioinfo_env",
   "language": "python",
   "name": "python3"
  },
  "language_info": {
   "codemirror_mode": {
    "name": "ipython",
    "version": 3
   },
   "file_extension": ".py",
   "mimetype": "text/x-python",
   "name": "python",
   "nbconvert_exporter": "python",
   "pygments_lexer": "ipython3",
   "version": "3.9.23"
  }
 },
 "nbformat": 4,
 "nbformat_minor": 5
}
