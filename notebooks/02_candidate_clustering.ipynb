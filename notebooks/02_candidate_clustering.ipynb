{
 "cells": [
  {
   "cell_type": "code",
   "execution_count": 1,
   "id": "e1507203",
   "metadata": {},
   "outputs": [],
   "source": [
    "# Read the candidate csv file into a dataframe\n",
    "\n",
    "import pandas as pd\n",
    "\n",
    "CSV_PATH = \"../results/NUMT_candidates.csv\"\n",
    "\n",
    "df = pd.read_csv(CSV_PATH)"
   ]
  },
  {
   "cell_type": "code",
   "execution_count": 4,
   "id": "d9a0e9b9",
   "metadata": {},
   "outputs": [
    {
     "name": "stdout",
     "output_type": "stream",
     "text": [
      "     ref_name  bin_start  is_reverse  num_reads  avg_ref_start  avg_mate_start\n",
      "0           1    1300000       False          1      1300043.0         16075.0\n",
      "1           1    1332000        True          2      1332031.0         11714.0\n",
      "2           1    1356000       False          1      1356407.0         15220.0\n",
      "3           1    1562500        True          1      1562969.0          3920.0\n",
      "4           1    2504000       False          1      2504078.0         12920.0\n",
      "...       ...        ...         ...        ...            ...             ...\n",
      "1711        X  151904500        True          1    151904803.0         11676.0\n",
      "1712        X  154465500        True          1    154465570.0          7393.0\n",
      "1713        Y   13704500        True          1     13704513.0          9212.0\n",
      "1714        Y   13718500        True          1     13718730.0         13277.0\n",
      "1715        Y   20727000        True          1     20727335.0          2944.0\n",
      "\n",
      "[1716 rows x 6 columns]\n"
     ]
    }
   ],
   "source": [
    "# Cluster reads that fall into the same bin\n",
    "\n",
    "BIN_SIZE = 500\n",
    "\n",
    "df[\"bin_start\"] = (df[\"ref_start\"] // BIN_SIZE) * BIN_SIZE\n",
    "\n",
    "grouped = df.groupby([\"ref_name\", \"bin_start\", \"is_reverse\"])\n",
    "\n",
    "clustered = grouped.agg(\n",
    "    num_reads=(\"query_name\", \"count\"),\n",
    "    avg_ref_start=(\"ref_start\", \"mean\"),\n",
    "    avg_mate_start=(\"mate_start\", \"mean\")\n",
    ").reset_index()\n",
    "\n",
    "print(clustered)"
   ]
  }
 ],
 "metadata": {
  "kernelspec": {
   "display_name": "bioinfo_env",
   "language": "python",
   "name": "python3"
  },
  "language_info": {
   "codemirror_mode": {
    "name": "ipython",
    "version": 3
   },
   "file_extension": ".py",
   "mimetype": "text/x-python",
   "name": "python",
   "nbconvert_exporter": "python",
   "pygments_lexer": "ipython3",
   "version": "3.9.23"
  }
 },
 "nbformat": 4,
 "nbformat_minor": 5
}
