{
 "cells": [
  {
   "cell_type": "markdown",
   "id": "b56d325a",
   "metadata": {},
   "source": [
    "Reads in the NUMT candidate csv file and converts to a dataframe"
   ]
  },
  {
   "cell_type": "code",
   "execution_count": null,
   "id": "e1507203",
   "metadata": {},
   "outputs": [],
   "source": [
    "import pandas as pd\n",
    "\n",
    "CSV_PATH = \"../results/NUMT_candidates.csv\"\n",
    "\n",
    "df = pd.read_csv(CSV_PATH)"
   ]
  },
  {
   "cell_type": "markdown",
   "id": "d0d968a0",
   "metadata": {},
   "source": [
    "Groups the reads into clusters that are close to each other"
   ]
  },
  {
   "cell_type": "code",
   "execution_count": null,
   "id": "d9a0e9b9",
   "metadata": {},
   "outputs": [
    {
     "name": "stdout",
     "output_type": "stream",
     "text": [
      "Clusters before filtering: 1716\n",
      "Clusters after filtering: 184\n"
     ]
    }
   ],
   "source": [
    "BIN_SIZE = 500 # How many bases contained in a bin\n",
    "MIN_NUM_READS = 2 # How many reads must be contained in a cluster to be included\n",
    "\n",
    "df[\"bin_start\"] = (df[\"ref_start\"] // BIN_SIZE) * BIN_SIZE\n",
    "\n",
    "grouped = df.groupby([\"ref_name\", \"bin_start\", \"is_reverse\"])\n",
    "\n",
    "clustered = grouped.agg(\n",
    "    num_reads=(\"query_name\", \"count\"),\n",
    "    avg_ref_start=(\"ref_start\", \"mean\"),\n",
    "    avg_mate_start=(\"mate_start\", \"mean\")\n",
    ").reset_index()\n",
    "\n",
    "filtered_clusters = clustered[clustered[\"num_reads\"]  >= MIN_NUM_READS]\n",
    "\n",
    "print(f\"Clusters before filtering: {len(clustered)}\")\n",
    "print(f\"Clusters after filtering: {len(filtered_clusters)}\")"
   ]
  },
  {
   "cell_type": "markdown",
   "id": "1c9aca30",
   "metadata": {},
   "source": [
    "Views the top 10 clusters and visulizes all filtered clusters"
   ]
  },
  {
   "cell_type": "code",
   "execution_count": null,
   "id": "63cf36c3",
   "metadata": {},
   "outputs": [],
   "source": [
    "# View top 10 clusters\n",
    "\n",
    "top_clusters = filtered_clusters.sort_values(\"num_reads\", ascending=False).head(10)\n",
    "print(top_clusters)\n",
    "\n",
    "import matplotlib.pyplot as plt\n",
    "import seaborn as sns\n",
    "\n",
    "plt.figure(figsize=(12, 5))\n",
    "\n",
    "sns.histplot(\n",
    "    data=filtered_clusters,\n",
    "    x=\"avg_ref_start\",\n",
    "    hue=\"ref_name\",\n",
    "    multiple=\"stack\",\n",
    "    bins=50,\n",
    "    palette=\"tab20\"     \n",
    ")\n",
    "\n",
    "plt.xlabel(\"Position on chromosome\")\n",
    "plt.ylabel(\"Number of clusters\")\n",
    "plt.title(\"NUMT Candidate Clusters per Chromosome\")\n",
    "plt.legend(title=\"Chromosome\", bbox_to_anchor=(1.05, 1), loc='upper left')\n",
    "plt.tight_layout()\n",
    "plt.show()"
   ]
  },
  {
   "cell_type": "markdown",
   "id": "3576cee6",
   "metadata": {},
   "source": [
    "Saves the filtered clusters into a new csv file"
   ]
  },
  {
   "cell_type": "code",
   "execution_count": 5,
   "id": "79a5de92",
   "metadata": {},
   "outputs": [],
   "source": [
    "# Save filtered clusters to csv file\n",
    "\n",
    "NEW_CSV_PATH = \"../results/filtered_NUMT_candidates.csv\"\n",
    "\n",
    "filtered_clusters.to_csv(NEW_CSV_PATH, index=False)"
   ]
  }
 ],
 "metadata": {
  "kernelspec": {
   "display_name": "bioinfo_env",
   "language": "python",
   "name": "python3"
  },
  "language_info": {
   "codemirror_mode": {
    "name": "ipython",
    "version": 3
   },
   "file_extension": ".py",
   "mimetype": "text/x-python",
   "name": "python",
   "nbconvert_exporter": "python",
   "pygments_lexer": "ipython3",
   "version": "3.9.23"
  }
 },
 "nbformat": 4,
 "nbformat_minor": 5
}
