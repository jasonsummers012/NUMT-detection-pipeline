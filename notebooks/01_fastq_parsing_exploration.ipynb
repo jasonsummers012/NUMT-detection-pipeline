{
 "cells": [
  {
   "cell_type": "code",
   "execution_count": null,
   "id": "6a449948",
   "metadata": {},
   "outputs": [],
   "source": [
    "%pip install biopython\n",
    "%pip install pandas\n",
    "%pip install matplotlib"
   ]
  },
  {
   "cell_type": "code",
   "execution_count": 8,
   "id": "e769f4cc",
   "metadata": {},
   "outputs": [
    {
     "name": "stdout",
     "output_type": "stream",
     "text": [
      "ID: SRR2584863.1\n",
      "Name: SRR2584863.1\n",
      "Description: SRR2584863.1 HWI-ST957:244:H73TDADXX:1:1101:4712:2181 length=150\n",
      "Number of features: 0\n",
      "Per letter annotation for: phred_quality\n",
      "Seq('TTCACATCCTGACCATTCAGTTGAGCAAAATAGTTCTTCAGTGCCTGTTTAACC...CTG')\n"
     ]
    }
   ],
   "source": [
    "import os\n",
    "\n",
    "DATA_DIR = os.path.abspath(\"../data\")\n",
    "FASTQ_FILE1 = os.path.join(DATA_DIR, \"SRR2584863_1.fastq\")\n",
    "\n",
    "from Bio import SeqIO\n",
    "\n",
    "with open(FASTQ_FILE1, \"r\") as fastq_file:\n",
    "    for record in SeqIO.parse(fastq_file, \"fastq\"):\n",
    "        print(record)\n",
    "        break"
   ]
  }
 ],
 "metadata": {
  "kernelspec": {
   "display_name": "bioinfo_env",
   "language": "python",
   "name": "python3"
  },
  "language_info": {
   "codemirror_mode": {
    "name": "ipython",
    "version": 3
   },
   "file_extension": ".py",
   "mimetype": "text/x-python",
   "name": "python",
   "nbconvert_exporter": "python",
   "pygments_lexer": "ipython3",
   "version": "3.13.3"
  }
 },
 "nbformat": 4,
 "nbformat_minor": 5
}
