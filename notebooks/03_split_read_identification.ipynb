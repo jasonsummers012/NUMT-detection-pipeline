{
 "cells": [
  {
   "cell_type": "markdown",
   "id": "424430c0",
   "metadata": {},
   "source": [
    "Helper functions for identifying and filtering clipped reads"
   ]
  },
  {
   "cell_type": "code",
   "execution_count": null,
   "id": "bce1ef54",
   "metadata": {},
   "outputs": [],
   "source": [
    "# Function to identify clips in reads\n",
    "\n",
    "import pysam\n",
    "\n",
    "# This function identifies a soft clip within the cigar string of a read\n",
    "def identify_clip(read):\n",
    "    cigar = read.cigartuples\n",
    "    seq = read.query_sequence\n",
    "\n",
    "    clipped_seq = None\n",
    "    if cigar[0][0] == 4: # 4 -> \"S\" which equates to a soft clip\n",
    "        clipped_seq = seq[:cigar[0][1]]\n",
    "    elif cigar[-1][0] == 4:\n",
    "        clipped_seq = seq[-cigar[-1][1]:]\n",
    "\n",
    "    return clipped_seq\n",
    "\n",
    "# This function returns the quality score of a clipped read\n",
    "def get_clipped_qual(read, clipped_seq):\n",
    "    qual_scores = read.query_qualities\n",
    "    if read.cigartuples[0][0] == 4:\n",
    "        clipped_qual = qual_scores[:read.cigartuples[0][1]]\n",
    "    elif read.cigartuples[-1][0] == 4:\n",
    "        clipped_qual = qual_scores[-read.cigartuples[-1][1]:]\n",
    "    else:\n",
    "        return None\n",
    "    return \"\".join([chr(q + 33) for q in clipped_qual])"
   ]
  },
  {
   "cell_type": "markdown",
   "id": "c5dbda1f",
   "metadata": {},
   "source": [
    "Loops through the clusters and extracts soft clipped sequences - sequences that don't match the specific reference, but aligns somewhere else on the reference genome"
   ]
  },
  {
   "cell_type": "code",
   "execution_count": null,
   "id": "571503af",
   "metadata": {},
   "outputs": [
    {
     "name": "stdout",
     "output_type": "stream",
     "text": [
      "Wrote 1342 clipped reads to ../results/clipped_reads.fq and ../results/clipped_reads_with_cluster.csv\n"
     ]
    }
   ],
   "source": [
    "import pandas as pd\n",
    "import pysam\n",
    "\n",
    "CSV_PATH = \"../results/filtered_NUMT_candidates.csv\"\n",
    "BAM_PATH = \"../results/sample_alignment_sorted.bam\"\n",
    "CLIPPED_FASTQ = \"../results/clipped_reads.fq\"\n",
    "CLIPPED_CSV = \"../results/clipped_reads_with_cluster.csv\"\n",
    "\n",
    "df_clusters = pd.read_csv(CSV_PATH)\n",
    "bam = pysam.AlignmentFile(BAM_PATH, \"rb\")\n",
    "\n",
    "BIN_SIZE = 50 # How big the bins are\n",
    "BUFFER = 1000 # How many bases to the left and right of the genome the windows begin and end\n",
    "MIN_CLIP_LEN = 10 # Required length of a clip to be counted\n",
    "\n",
    "clipped_reads = []\n",
    "\n",
    "for index, cluster in df_clusters.iterrows():\n",
    "    chrom = cluster[\"ref_name\"]\n",
    "    start = max(0, cluster[\"bin_start\"] - BUFFER)\n",
    "    end = cluster[\"bin_start\"] + BIN_SIZE + BUFFER\n",
    "\n",
    "    for read in bam.fetch(chrom, start, end):\n",
    "        if read.cigarstring is None:\n",
    "            continue\n",
    "        if \"S\" not in read.cigarstring:\n",
    "            continue\n",
    "\n",
    "        clipped_seq = identify_clip(read)\n",
    "        if clipped_seq is None or len(clipped_seq) < MIN_CLIP_LEN:\n",
    "            continue\n",
    "\n",
    "        qual_str = get_clipped_qual(read, clipped_seq)\n",
    "        if qual_str is None or len(qual_str) < MIN_CLIP_LEN:\n",
    "            continue\n",
    "\n",
    "        clipped_reads.append((read.query_name, clipped_seq, qual_str, index))"
   ]
  },
  {
   "cell_type": "markdown",
   "id": "5091bfa7",
   "metadata": {},
   "source": [
    "Writes the clipped reads to a FASTQ file and a new csv file"
   ]
  },
  {
   "cell_type": "code",
   "execution_count": null,
   "id": "8f2639b4",
   "metadata": {},
   "outputs": [],
   "source": [
    "with open(CLIPPED_FASTQ, \"w\") as fq_out:\n",
    "    for qname, seq, qual, _ in clipped_reads:\n",
    "        fq_out.write(f\"@{qname}\\n{seq}\\n+\\n{qual}\\n\")\n",
    "\n",
    "clipped_df = pd.DataFrame(clipped_reads, columns=[\"read_name\", \"seq\", \"qual\", \"cluster_idx\"])\n",
    "clipped_df.to_csv(CLIPPED_CSV, index=False)\n",
    "\n",
    "print(f\"Wrote {len(clipped_reads)} clipped reads to {CLIPPED_FASTQ} and {CLIPPED_CSV}\")"
   ]
  },
  {
   "cell_type": "markdown",
   "id": "f1c80769",
   "metadata": {},
   "source": [
    "Runs a series of bash commands to generate a sorted bam file that shows alignment of clipped sequences to the mt reference genome"
   ]
  },
  {
   "cell_type": "code",
   "execution_count": null,
   "id": "fbd5e7aa",
   "metadata": {},
   "outputs": [],
   "source": [
    "import subprocess\n",
    "\n",
    "BWA_PATH = \"bwa\"\n",
    "MTDNA_REF = \"../data/human_mtDNA.fa\"\n",
    "\n",
    "SAM_FILE = \"../results/clipped_vs_mtDNA.sam\"\n",
    "BAM_FILE = \"../results/clipped_vs_mtDNA.bam\"\n",
    "SORTED_BAM = \"../results/clipped_vs_mtDNA_sorted.bam\"\n",
    "\n",
    "subprocess.run([BWA_PATH, \"mem\", MTDNA_REF, CLIPPED_FASTQ, \"-o\", SAM_FILE], check=True)\n",
    "subprocess.run([\"samtools\", \"view\", \"-bS\", SAM_FILE, \"-o\", BAM_FILE], check=True)\n",
    "subprocess.run([\"samtools\", \"sort\", BAM_FILE, \"-o\", SORTED_BAM], check=True)\n",
    "subprocess.run([\"samtools\", \"index\", SORTED_BAM], check=True)\n",
    "\n",
    "print(f\"Sorted BAM and index ready: {SORTED_BAM}\")"
   ]
  }
 ],
 "metadata": {
  "kernelspec": {
   "display_name": "bioinfo_env",
   "language": "python",
   "name": "python3"
  },
  "language_info": {
   "codemirror_mode": {
    "name": "ipython",
    "version": 3
   },
   "file_extension": ".py",
   "mimetype": "text/x-python",
   "name": "python",
   "nbconvert_exporter": "python",
   "pygments_lexer": "ipython3",
   "version": "3.9.23"
  }
 },
 "nbformat": 4,
 "nbformat_minor": 5
}
