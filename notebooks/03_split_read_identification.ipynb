{
 "cells": [
  {
   "cell_type": "code",
   "execution_count": 4,
   "id": "bce1ef54",
   "metadata": {},
   "outputs": [],
   "source": [
    "# Function to identify clips in reads\n",
    "\n",
    "import pysam\n",
    "\n",
    "def identify_clip(read):\n",
    "    cigar = read.cigartuples\n",
    "    seq = read.query_sequence\n",
    "\n",
    "    clipped_seq = None\n",
    "    if cigar[0][0] == 4:\n",
    "        clipped_seq = seq[:cigar[0][1]]\n",
    "    elif cigar[-1][0] == 4:\n",
    "        clipped_seq = seq[-cigar[-1][1]:]\n",
    "\n",
    "    return clipped_seq"
   ]
  },
  {
   "cell_type": "code",
   "execution_count": 5,
   "id": "54a843ec",
   "metadata": {},
   "outputs": [],
   "source": [
    "# Function to get clipped quality scores\n",
    "\n",
    "def get_clipped_qual(read, clipped_seq):\n",
    "    qual_scores = read.query_qualities\n",
    "    if read.cigartuples[0][0] == 4:\n",
    "        clipped_qual = qual_scores[:read.cigartuples[0][1]]\n",
    "    elif read.cigartuples[-1][0] == 4:\n",
    "        clipped_qual = qual_scores[-read.cigartuples[-1][1]:]\n",
    "    else:\n",
    "        return None\n",
    "    return \"\".join([chr(q + 33) for q in clipped_qual])"
   ]
  },
  {
   "cell_type": "code",
   "execution_count": null,
   "id": "571503af",
   "metadata": {},
   "outputs": [
    {
     "ename": "ValueError",
     "evalue": "too many values to unpack (expected 3)",
     "output_type": "error",
     "traceback": [
      "\u001b[0;31m---------------------------------------------------------------------------\u001b[0m",
      "\u001b[0;31mValueError\u001b[0m                                Traceback (most recent call last)",
      "Cell \u001b[0;32mIn[6], line 40\u001b[0m\n\u001b[1;32m     38\u001b[0m \u001b[38;5;66;03m# Write filtered clipped reads to FASTQ\u001b[39;00m\n\u001b[1;32m     39\u001b[0m \u001b[38;5;28;01mwith\u001b[39;00m \u001b[38;5;28mopen\u001b[39m(CLIPPED_FASTQ, \u001b[38;5;124m\"\u001b[39m\u001b[38;5;124mw\u001b[39m\u001b[38;5;124m\"\u001b[39m) \u001b[38;5;28;01mas\u001b[39;00m fq_out:\n\u001b[0;32m---> 40\u001b[0m     \u001b[38;5;28;01mfor\u001b[39;00m qname, seq, qual \u001b[38;5;129;01min\u001b[39;00m clipped_reads:\n\u001b[1;32m     41\u001b[0m         fq_out\u001b[38;5;241m.\u001b[39mwrite(\u001b[38;5;124mf\u001b[39m\u001b[38;5;124m\"\u001b[39m\u001b[38;5;124m@\u001b[39m\u001b[38;5;132;01m{\u001b[39;00mqname\u001b[38;5;132;01m}\u001b[39;00m\u001b[38;5;130;01m\\n\u001b[39;00m\u001b[38;5;132;01m{\u001b[39;00mseq\u001b[38;5;132;01m}\u001b[39;00m\u001b[38;5;130;01m\\n\u001b[39;00m\u001b[38;5;124m+\u001b[39m\u001b[38;5;130;01m\\n\u001b[39;00m\u001b[38;5;132;01m{\u001b[39;00mqual\u001b[38;5;132;01m}\u001b[39;00m\u001b[38;5;130;01m\\n\u001b[39;00m\u001b[38;5;124m\"\u001b[39m)\n\u001b[1;32m     43\u001b[0m \u001b[38;5;28mprint\u001b[39m(\u001b[38;5;124mf\u001b[39m\u001b[38;5;124m\"\u001b[39m\u001b[38;5;124mWrote \u001b[39m\u001b[38;5;132;01m{\u001b[39;00m\u001b[38;5;28mlen\u001b[39m(clipped_reads)\u001b[38;5;132;01m}\u001b[39;00m\u001b[38;5;124m clipped reads to \u001b[39m\u001b[38;5;132;01m{\u001b[39;00mCLIPPED_FASTQ\u001b[38;5;132;01m}\u001b[39;00m\u001b[38;5;124m\"\u001b[39m)\n",
      "\u001b[0;31mValueError\u001b[0m: too many values to unpack (expected 3)"
     ]
    }
   ],
   "source": [
    "import pandas as pd\n",
    "import pysam\n",
    "\n",
    "CSV_PATH = \"../results/filtered_NUMT_candidates.csv\"\n",
    "BAM_PATH = \"../results/sample_alignment_sorted.bam\"\n",
    "CLIPPED_FASTQ = \"../results/clipped_reads.fq\"\n",
    "\n",
    "df_clusters = pd.read_csv(CSV_PATH)\n",
    "bam = pysam.AlignmentFile(BAM_PATH, \"rb\")\n",
    "\n",
    "BIN_SIZE = 50\n",
    "BUFFER = 1000\n",
    "MIN_CLIP_LEN = 10\n",
    "\n",
    "clipped_reads = []\n",
    "\n",
    "for index, cluster in df_clusters.iterrows():\n",
    "    chrom = cluster[\"ref_name\"]\n",
    "    start = max(0, cluster[\"bin_start\"] - BUFFER)\n",
    "    end = cluster[\"bin_start\"] + BIN_SIZE + BUFFER\n",
    "\n",
    "    for read in bam.fetch(chrom, start, end):\n",
    "        if read.cigarstring is None:\n",
    "            continue\n",
    "        if \"S\" not in read.cigarstring:\n",
    "            continue\n",
    "\n",
    "        clipped_seq = identify_clip(read)\n",
    "        if clipped_seq is None or len(clipped_seq) < MIN_CLIP_LEN:\n",
    "            continue\n",
    "\n",
    "        qual_str = get_clipped_qual(read, clipped_seq)\n",
    "        if qual_str is None or len(qual_str) < MIN_CLIP_LEN:\n",
    "            continue\n",
    "\n",
    "        clipped_reads.append((read.query_name, clipped_seq, qual_str, index))\n",
    "\n",
    "# Write filtered clipped reads to FASTQ\n",
    "with open(CLIPPED_FASTQ, \"w\") as fq_out:\n",
    "    for qname, seq, qual, _ in clipped_reads:\n",
    "        fq_out.write(f\"@{qname}\\n{seq}\\n+\\n{qual}\\n\")\n",
    "\n",
    "print(f\"Wrote {len(clipped_reads)} clipped reads to {CLIPPED_FASTQ}\")"
   ]
  },
  {
   "cell_type": "code",
   "execution_count": null,
   "id": "fbd5e7aa",
   "metadata": {},
   "outputs": [],
   "source": [
    "import subprocess\n",
    "\n",
    "BWA_PATH = \"bwa\"\n",
    "MTDNA_REF = \"../data/human_mtDNA.fa\"\n",
    "\n",
    "SAM_FILE = \"../results/clipped_vs_mtDNA.sam\"\n",
    "BAM_FILE = \"../results/clipped_vs_mtDNA.bam\"\n",
    "SORTED_BAM = \"../results/clipped_vs_mtDNA_sorted.bam\"\n",
    "\n",
    "subprocess.run([BWA_PATH, \"mem\", MTDNA_REF, CLIPPED_FASTQ, \"-o\", SAM_FILE], check=True)\n",
    "subprocess.run([\"samtools\", \"view\", \"-bS\", SAM_FILE, \"-o\", BAM_FILE], check=True)\n",
    "subprocess.run([\"samtools\", \"sort\", BAM_FILE, \"-o\", SORTED_BAM], check=True)\n",
    "subprocess.run([\"samtools\", \"index\", SORTED_BAM], check=True)\n",
    "\n",
    "print(f\"Sorted BAM and index ready: {SORTED_BAM}\")"
   ]
  },
  {
   "cell_type": "code",
   "execution_count": 2,
   "id": "05bc1e91",
   "metadata": {},
   "outputs": [],
   "source": [
    "# Function to extract clipped sequence length\n",
    "\n",
    "def clipped_length(read):\n",
    "    if read.cigartuples[0][0] == 4:\n",
    "        return read.cigartuples[0][1]\n",
    "    elif read.cigartuples[-1][0] == 4:\n",
    "        return read.cigartuples[-1][1]\n",
    "    else:\n",
    "        return 0"
   ]
  }
 ],
 "metadata": {
  "kernelspec": {
   "display_name": "bioinfo_env",
   "language": "python",
   "name": "python3"
  },
  "language_info": {
   "codemirror_mode": {
    "name": "ipython",
    "version": 3
   },
   "file_extension": ".py",
   "mimetype": "text/x-python",
   "name": "python",
   "nbconvert_exporter": "python",
   "pygments_lexer": "ipython3",
   "version": "3.9.23"
  }
 },
 "nbformat": 4,
 "nbformat_minor": 5
}
