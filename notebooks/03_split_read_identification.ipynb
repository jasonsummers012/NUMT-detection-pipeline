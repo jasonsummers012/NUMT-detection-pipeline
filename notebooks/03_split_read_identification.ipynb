{
 "cells": [
  {
   "cell_type": "code",
   "execution_count": 3,
   "id": "bce1ef54",
   "metadata": {},
   "outputs": [],
   "source": [
    "# Function to identify clips in reads\n",
    "\n",
    "import pysam\n",
    "\n",
    "def identify_clip(read):\n",
    "    cigar = read.cigartuples\n",
    "    seq = read.query_sequence\n",
    "\n",
    "    clipped_seq = None\n",
    "    if cigar[0][0] == 4:\n",
    "        clipped_seq = seq[:cigar[0][1]]\n",
    "    elif cigar[-1][0] == 4:\n",
    "        clipped_seq = seq[-cigar[-1][1]:]\n",
    "\n",
    "    return clipped_seq"
   ]
  },
  {
   "cell_type": "code",
   "execution_count": 4,
   "id": "54a843ec",
   "metadata": {},
   "outputs": [],
   "source": [
    "# Function to get clipped quality scores\n",
    "\n",
    "def get_clipped_qual(read, clipped_seq):\n",
    "    qual_scores = read.query_qualities\n",
    "    if read.cigartuples[0][0] == 4:\n",
    "        clipped_qual = qual_scores[:read.cigartuples[0][1]]\n",
    "    elif read.cigartuples[-1][0] == 4:\n",
    "        clipped_qual = qual_scores[-read.cigartuples[-1][1]:]\n",
    "    else:\n",
    "        return None\n",
    "    return \"\".join([chr(q + 33) for q in clipped_qual])"
   ]
  },
  {
   "cell_type": "code",
   "execution_count": 10,
   "id": "571503af",
   "metadata": {},
   "outputs": [
    {
     "name": "stdout",
     "output_type": "stream",
     "text": [
      "Wrote 1342 clipped reads to ../results/clipped_reads.fq\n"
     ]
    }
   ],
   "source": [
    "import pandas as pd\n",
    "import pysam\n",
    "\n",
    "CSV_PATH = \"../results/filtered_NUMT_candidates.csv\"\n",
    "BAM_PATH = \"../results/sample_alignment_sorted.bam\"\n",
    "CLIPPED_FASTQ = \"../results/clipped_reads.fq\"\n",
    "\n",
    "df_clusters = pd.read_csv(CSV_PATH)\n",
    "bam = pysam.AlignmentFile(BAM_PATH, \"rb\")\n",
    "\n",
    "BIN_SIZE = 50\n",
    "BUFFER = 1000\n",
    "MIN_CLIP_LEN = 10\n",
    "\n",
    "clipped_reads = []\n",
    "\n",
    "for index, cluster in df_clusters.iterrows():\n",
    "    chrom = cluster[\"ref_name\"]\n",
    "    start = max(0, cluster[\"bin_start\"] - BUFFER)\n",
    "    end = cluster[\"bin_start\"] + BIN_SIZE + BUFFER\n",
    "\n",
    "    for read in bam.fetch(chrom, start, end):\n",
    "        if read.cigarstring is None:\n",
    "            continue\n",
    "        if \"S\" not in read.cigarstring:\n",
    "            continue\n",
    "\n",
    "        clipped_seq = identify_clip(read)\n",
    "        if clipped_seq is None or len(clipped_seq) < MIN_CLIP_LEN:\n",
    "            continue\n",
    "\n",
    "        qual_str = get_clipped_qual(read, clipped_seq)\n",
    "        if qual_str is None or len(qual_str) < MIN_CLIP_LEN:\n",
    "            continue\n",
    "\n",
    "        clipped_reads.append((read.query_name, clipped_seq, qual_str))\n",
    "\n",
    "# Write filtered clipped reads to FASTQ\n",
    "with open(CLIPPED_FASTQ, \"w\") as fq_out:\n",
    "    for qname, seq, qual in clipped_reads:\n",
    "        fq_out.write(f\"@{qname}\\n{seq}\\n+\\n{qual}\\n\")\n",
    "\n",
    "print(f\"Wrote {len(clipped_reads)} clipped reads to {CLIPPED_FASTQ}\")"
   ]
  },
  {
   "cell_type": "code",
   "execution_count": 12,
   "id": "fbd5e7aa",
   "metadata": {},
   "outputs": [
    {
     "name": "stdout",
     "output_type": "stream",
     "text": [
      "Sorted BAM and index ready: ../results/clipped_vs_mtDNA_sorted.bam\n"
     ]
    },
    {
     "name": "stderr",
     "output_type": "stream",
     "text": [
      "[M::bwa_idx_load_from_disk] read 0 ALT contigs\n",
      "[M::process] read 1342 sequences (38896 bp)...\n",
      "[M::mem_process_seqs] Processed 1342 reads in 0.013 CPU sec, 0.017 real sec\n",
      "[main] Version: 0.7.17-r1188\n",
      "[main] CMD: bwa mem -o ../results/clipped_vs_mtDNA.sam ../data/human_mtDNA.fa ../results/clipped_reads.fq\n",
      "[main] Real time: 0.041 sec; CPU: 0.027 sec\n"
     ]
    }
   ],
   "source": [
    "import subprocess\n",
    "\n",
    "BWA_PATH = \"bwa\"\n",
    "MTDNA_REF = \"../data/human_mtDNA.fa\"\n",
    "\n",
    "SAM_FILE = \"../results/clipped_vs_mtDNA.sam\"\n",
    "BAM_FILE = \"../results/clipped_vs_mtDNA.bam\"\n",
    "SORTED_BAM = \"../results/clipped_vs_mtDNA_sorted.bam\"\n",
    "\n",
    "subprocess.run([BWA_PATH, \"mem\", MTDNA_REF, CLIPPED_FASTQ, \"-o\", SAM_FILE], check=True)\n",
    "subprocess.run([\"samtools\", \"view\", \"-bS\", SAM_FILE, \"-o\", BAM_FILE], check=True)\n",
    "subprocess.run([\"samtools\", \"sort\", BAM_FILE, \"-o\", SORTED_BAM], check=True)\n",
    "subprocess.run([\"samtools\", \"index\", SORTED_BAM], check=True)\n",
    "\n",
    "print(f\"Sorted BAM and index ready: {SORTED_BAM}\")"
   ]
  }
 ],
 "metadata": {
  "kernelspec": {
   "display_name": "bioinfo_env",
   "language": "python",
   "name": "python3"
  },
  "language_info": {
   "codemirror_mode": {
    "name": "ipython",
    "version": 3
   },
   "file_extension": ".py",
   "mimetype": "text/x-python",
   "name": "python",
   "nbconvert_exporter": "python",
   "pygments_lexer": "ipython3",
   "version": "3.9.23"
  }
 },
 "nbformat": 4,
 "nbformat_minor": 5
}
