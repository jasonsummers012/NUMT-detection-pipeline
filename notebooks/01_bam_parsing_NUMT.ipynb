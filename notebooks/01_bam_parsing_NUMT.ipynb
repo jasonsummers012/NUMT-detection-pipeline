{
 "cells": [
  {
   "cell_type": "markdown",
   "id": "ae8ccdcb",
   "metadata": {},
   "source": [
    "Helper functions for NUMT detection: intitial filtering, mt and nuclear classification, and split-read identification"
   ]
  },
  {
   "cell_type": "code",
   "execution_count": null,
   "id": "55e4c396",
   "metadata": {},
   "outputs": [],
   "source": [
    "MAPQ_THRESHOLD = 30 # The minimum quality score acceptable\n",
    "\n",
    "# A list of all potential notations that could be used for references\n",
    "CHR_SYNONYMS = {\n",
    "    \"MT\": {\"MT\", \"chrM\", \"NC_012920.1\", \"M\", \"mt\"},\n",
    "    \"NUC\": set([*(map(str, range(1,23))), \"X\",\"Y\", *[f\"chr{i}\" for i in range(1,23)], \"chrX\",\"chrY\"])\n",
    "}\n",
    "\n",
    "# This function determines if a read passes initial quality filters or not\n",
    "def passes_initial_filters(read):\n",
    "    return (\n",
    "        read.mapping_quality >= MAPQ_THRESHOLD and\n",
    "        not read.is_unmapped and\n",
    "        not read.mate_is_unmapped and\n",
    "        not read.is_duplicate and\n",
    "        not read.is_qcfail and\n",
    "        not read.is_secondary and\n",
    "        not read.is_supplementary\n",
    "    )\n",
    "\n",
    "# This function determines if the read is mitochondrial\n",
    "def is_mt(ref):\n",
    "    return ref is not None and ref.upper() in CHR_SYNONYMS[\"MT\"]\n",
    "\n",
    "# This function determines if the read is nuclear\n",
    "def is_nuc(ref):\n",
    "    return  ref is not None and ref.upper() in CHR_SYNONYMS[\"NUC\"]\n",
    "\n",
    "# This function determines if a fead is a \n",
    "def is_nuclear_mt_pair(read):\n",
    "    r1, r2 = read.reference_name, read.next_reference_name\n",
    "    if r1 is None or r2 is None:\n",
    "        return False\n",
    "    return (is_nuc(r1) and is_mt(r2)) or (is_mt(r1) and is_nuc(r2))"
   ]
  },
  {
   "cell_type": "markdown",
   "id": "50d9f55c",
   "metadata": {},
   "source": [
    "Loops through the BAM file and writes the NUMT candidates to a csv file, including important information"
   ]
  },
  {
   "cell_type": "code",
   "execution_count": null,
   "id": "897f9202",
   "metadata": {},
   "outputs": [
    {
     "name": "stdout",
     "output_type": "stream",
     "text": [
      "Found 1917 NUMT candidate reads\n"
     ]
    }
   ],
   "source": [
    "import pysam\n",
    "import csv\n",
    "\n",
    "BAM_PATH = \"../results/sample_alignment_sorted.bam\"\n",
    "OUTPUT_CSV = \"../results/NUMT_candidates.csv\"\n",
    "\n",
    "count = 0 # Initializes count to 0, only for tracking purposes\n",
    "\n",
    "with pysam.AlignmentFile(BAM_PATH, \"rb\") as bamfile, open(OUTPUT_CSV, \"w\", newline='') as csv_file:\n",
    "    writer = csv.DictWriter(csv_file, fieldnames=[\n",
    "        \"query_name\", \"ref_name\", \"ref_start\", \"mate_ref_name\", \"mate_start\",\n",
    "        \"read_length\", \"mapq\", \"cigar\", \"is_reverse\", \"mate_is_reverse\"\n",
    "    ])\n",
    "    writer.writeheader()\n",
    "    seen_pairs = set()\n",
    "\n",
    "    for read in bamfile.fetch():\n",
    "        if not passes_initial_filters(read):\n",
    "            continue\n",
    "        if not is_nuclear_mt_pair(read):\n",
    "            continue\n",
    "\n",
    "        pair_key = tuple(sorted([read.query_name, read.next_reference_name])) # This keeps track of pairs to ensure no duplicate pairs\n",
    "        if pair_key in seen_pairs:\n",
    "            continue\n",
    "        seen_pairs.add(pair_key)\n",
    "\n",
    "        insert_size = abs(read.template_length)\n",
    "\n",
    "        writer.writerow({\n",
    "            \"query_name\": read.query_name,\n",
    "            \"ref_name\": read.reference_name,\n",
    "            \"ref_start\": read.reference_start,\n",
    "            \"mate_ref_name\": read.next_reference_name,\n",
    "            \"mate_start\": read.next_reference_start,\n",
    "            \"read_length\": read.query_length,\n",
    "            \"mapq\": read.mapping_quality,\n",
    "            \"cigar\": read.cigarstring,\n",
    "            \"is_reverse\": read.is_reverse,\n",
    "            \"mate_is_reverse\": read.mate_is_reverse\n",
    "        })\n",
    "\n",
    "        count += 1\n",
    "\n",
    "print(f\"Found {count} NUMT candidate reads\")"
   ]
  }
 ],
 "metadata": {
  "kernelspec": {
   "display_name": "bioinfo_env",
   "language": "python",
   "name": "python3"
  },
  "language_info": {
   "codemirror_mode": {
    "name": "ipython",
    "version": 3
   },
   "file_extension": ".py",
   "mimetype": "text/x-python",
   "name": "python",
   "nbconvert_exporter": "python",
   "pygments_lexer": "ipython3",
   "version": "3.9.23"
  }
 },
 "nbformat": 4,
 "nbformat_minor": 5
}
