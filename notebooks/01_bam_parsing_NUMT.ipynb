{
 "cells": [
  {
   "cell_type": "code",
   "execution_count": 1,
   "id": "55e4c396",
   "metadata": {},
   "outputs": [],
   "source": [
    "def passes_initial_filters(read):\n",
    "    return (\n",
    "        read.mapping_quality >= 30 and\n",
    "        not read.is_unmapped and\n",
    "        not read.mate_is_unmapped and\n",
    "        not read.is_duplicate and\n",
    "        not read.is_qcfail and\n",
    "        not read.is_secondary and\n",
    "        not read.is_supplementary\n",
    "    )"
   ]
  },
  {
   "cell_type": "code",
   "execution_count": 2,
   "id": "da22c2da",
   "metadata": {},
   "outputs": [],
   "source": [
    "nuclear_chromosomes = [f\"{i}\" for i in range(1,23)] + [\"X\", \"Y\"]\n",
    "mt_chromosome = [\"MT\", \"NC_012920.1\"]\n",
    "\n",
    "def is_nuclear_mt_pair(read):\n",
    "    if read.next_reference_name is None:\n",
    "        return False\n",
    "    if read.reference_name in nuclear_chromosomes and read.next_reference_name in mt_chromosome:\n",
    "        return True\n",
    "    if read.reference_name in mt_chromosome and read.next_reference_name in nuclear_chromosomes:\n",
    "        return True\n",
    "    return False"
   ]
  },
  {
   "cell_type": "code",
   "execution_count": 3,
   "id": "897f9202",
   "metadata": {},
   "outputs": [
    {
     "name": "stdout",
     "output_type": "stream",
     "text": [
      "Found 143 NUMT candidate reads\n"
     ]
    }
   ],
   "source": [
    "import pysam\n",
    "import pandas as pd\n",
    "\n",
    "bam_path = \"../results/sample_alignment_sorted.bam\"\n",
    "\n",
    "numt_candidates = []\n",
    "\n",
    "with pysam.AlignmentFile(bam_path, \"rb\") as bamfile:\n",
    "    for read in bamfile.fetch():\n",
    "        if not passes_initial_filters(read):\n",
    "            continue\n",
    "        if not is_nuclear_mt_pair(read):\n",
    "            continue\n",
    "\n",
    "        mate_ref = read.next_reference_name\n",
    "        numt_candidates.append({\n",
    "            \"query_name\": read.query_name,\n",
    "            \"ref_name\": read.reference_name,\n",
    "            \"ref_start\": read.reference_start,\n",
    "            \"mate_ref_name\": mate_ref,\n",
    "            \"mate_start\": read.next_reference_start,\n",
    "            \"mapq\": read.mapping_quality,\n",
    "            \"cigar\": read.cigarstring,\n",
    "            \"is_reverse\": read.is_reverse,\n",
    "            \"mate_is_reverse\": read.mate_is_reverse\n",
    "        })\n",
    "\n",
    "print(f\"Found {len(numt_candidates)} NUMT candidate reads\")\n",
    "df = pd.DataFrame(numt_candidates)\n",
    "df.to_csv(\"../results/NUMT_candidates.csv\", index=False)"
   ]
  },
  {
   "cell_type": "code",
   "execution_count": null,
   "id": "69db50ac",
   "metadata": {},
   "outputs": [],
   "source": []
  },
  {
   "cell_type": "code",
   "execution_count": null,
   "id": "5e1a8d82",
   "metadata": {},
   "outputs": [],
   "source": []
  }
 ],
 "metadata": {
  "kernelspec": {
   "display_name": "bioinfo_env",
   "language": "python",
   "name": "python3"
  },
  "language_info": {
   "codemirror_mode": {
    "name": "ipython",
    "version": 3
   },
   "file_extension": ".py",
   "mimetype": "text/x-python",
   "name": "python",
   "nbconvert_exporter": "python",
   "pygments_lexer": "ipython3",
   "version": "3.9.23"
  }
 },
 "nbformat": 4,
 "nbformat_minor": 5
}
