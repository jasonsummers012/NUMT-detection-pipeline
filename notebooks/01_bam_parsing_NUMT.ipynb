{
 "cells": [
  {
   "cell_type": "code",
   "execution_count": 1,
   "id": "55e4c396",
   "metadata": {},
   "outputs": [],
   "source": [
    "# Function to define initial quality filters\n",
    "\n",
    "MAPQ_THRESHOLD = 30\n",
    "\n",
    "def passes_initial_filters(read):\n",
    "    return (\n",
    "        read.mapping_quality >= MAPQ_THRESHOLD and\n",
    "        not read.is_unmapped and\n",
    "        not read.mate_is_unmapped and\n",
    "        not read.is_duplicate and\n",
    "        not read.is_qcfail and\n",
    "        not read.is_secondary and\n",
    "        not read.is_supplementary\n",
    "    )"
   ]
  },
  {
   "cell_type": "code",
   "execution_count": 2,
   "id": "26c2e540",
   "metadata": {},
   "outputs": [],
   "source": [
    "# Functions to identify reads that align with nuclear and mitochondrial sequences\n",
    "\n",
    "CHR_SYNONYMS = {\n",
    "    \"MT\": {\"MT\", \"chrM\", \"NC_012920.1\", \"M\", \"mt\"},\n",
    "    \"NUC\": set([*(map(str, range(1,23))), \"X\",\"Y\", *[f\"chr{i}\" for i in range(1,23)], \"chrX\",\"chrY\"])\n",
    "}\n",
    "\n",
    "def is_mt(ref):\n",
    "    return ref is not None and ref.upper() in CHR_SYNONYMS[\"MT\"]\n",
    "\n",
    "def is_nuc(ref):\n",
    "    return  ref is not None and ref.upper() in CHR_SYNONYMS[\"NUC\"]"
   ]
  },
  {
   "cell_type": "code",
   "execution_count": 3,
   "id": "da22c2da",
   "metadata": {},
   "outputs": [],
   "source": [
    "# Function to identify paired reads that contain both nuclear and mtDNA\n",
    "\n",
    "def is_nuclear_mt_pair(read):\n",
    "    r1, r2 = read.reference_name, read.next_reference_name\n",
    "    if r1 is None or r2 is None:\n",
    "        return False\n",
    "    return (is_nuc(r1) and is_mt(r2)) or (is_mt(r1) and is_nuc(r2))"
   ]
  },
  {
   "cell_type": "code",
   "execution_count": 4,
   "id": "897f9202",
   "metadata": {},
   "outputs": [
    {
     "name": "stdout",
     "output_type": "stream",
     "text": [
      "Found 1917 NUMT candidate reads\n"
     ]
    }
   ],
   "source": [
    "# Loops through BAM file to identify NUMT candidates\n",
    "\n",
    "import pysam\n",
    "import csv\n",
    "\n",
    "BAM_PATH = \"../results/sample_alignment_sorted.bam\"\n",
    "OUTPUT_CSV = \"../results/NUMT_candidates.csv\"\n",
    "\n",
    "count = 0\n",
    "\n",
    "with pysam.AlignmentFile(BAM_PATH, \"rb\") as bamfile, open(OUTPUT_CSV, \"w\", newline='') as csv_file:\n",
    "    writer = csv.DictWriter(csv_file, fieldnames=[\n",
    "        \"query_name\", \"ref_name\", \"ref_start\", \"mate_ref_name\", \"mate_start\",\n",
    "        \"read_length\", \"mapq\", \"cigar\", \"is_reverse\", \"mate_is_reverse\"\n",
    "    ])\n",
    "    writer.writeheader()\n",
    "    seen_pairs = set()\n",
    "\n",
    "    for read in bamfile.fetch():\n",
    "        if not passes_initial_filters(read):\n",
    "            continue\n",
    "        if not is_nuclear_mt_pair(read):\n",
    "            continue\n",
    "\n",
    "        pair_key = tuple(sorted([read.query_name, read.next_reference_name]))\n",
    "        if pair_key in seen_pairs:\n",
    "            continue\n",
    "        seen_pairs.add(pair_key)\n",
    "\n",
    "        insert_size = abs(read.template_length)\n",
    "\n",
    "        writer.writerow({\n",
    "            \"query_name\": read.query_name,\n",
    "            \"ref_name\": read.reference_name,\n",
    "            \"ref_start\": read.reference_start,\n",
    "            \"mate_ref_name\": read.next_reference_name,\n",
    "            \"mate_start\": read.next_reference_start,\n",
    "            \"read_length\": read.query_length,\n",
    "            \"mapq\": read.mapping_quality,\n",
    "            \"cigar\": read.cigarstring,\n",
    "            \"is_reverse\": read.is_reverse,\n",
    "            \"mate_is_reverse\": read.mate_is_reverse\n",
    "        })\n",
    "\n",
    "        count += 1\n",
    "\n",
    "print(f\"Found {count} NUMT candidate reads\")"
   ]
  },
  {
   "cell_type": "code",
   "execution_count": null,
   "id": "69db50ac",
   "metadata": {},
   "outputs": [],
   "source": []
  },
  {
   "cell_type": "code",
   "execution_count": null,
   "id": "5e1a8d82",
   "metadata": {},
   "outputs": [],
   "source": []
  }
 ],
 "metadata": {
  "kernelspec": {
   "display_name": "bioinfo_env",
   "language": "python",
   "name": "python3"
  },
  "language_info": {
   "codemirror_mode": {
    "name": "ipython",
    "version": 3
   },
   "file_extension": ".py",
   "mimetype": "text/x-python",
   "name": "python",
   "nbconvert_exporter": "python",
   "pygments_lexer": "ipython3",
   "version": "3.9.23"
  }
 },
 "nbformat": 4,
 "nbformat_minor": 5
}
